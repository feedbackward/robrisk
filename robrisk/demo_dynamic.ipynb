{
 "cells": [
  {
   "cell_type": "markdown",
   "metadata": {},
   "source": [
    "# Demo: empirical analysis of CVaR-based learning\n",
    "\n",
    "This demo covers the numerical tests of learning algorithms driven by CVaR-based feedback done in the following paper.\n",
    "\n",
    "- Learning with risk-averse feedback under potentially heavy tails (cf. Sections 2.3 and 3). Matthew J. Holland and El Mehdi Haress. AISTATS 2021.\n",
    "\n",
    "The contents of this demo notebook are as follows:\n",
    "\n",
    "- <a href=\"#guide\">Guide to running the experiments</a>\n",
    "- <a href=\"#prelim\">Visualize: preliminaries</a>\n",
    "- <a href=\"#multitrial\">Visualize: aggregation over multiple trials</a>\n",
    "\n",
    "First we give some details describing how to actually run the tests on your machine. The remainder of the demo aids the user in visualizing the test results after the experiments have actually been run.\n"
   ]
  },
  {
   "cell_type": "markdown",
   "metadata": {},
   "source": [
    "___"
   ]
  },
  {
   "cell_type": "markdown",
   "metadata": {},
   "source": [
    "<a id=\"guide\"></a>\n",
    "## Guide to running the experiments\n",
    "\n",
    "A high-level description of the full procedure involved in running these experiments is given in the README file of this repository. We assume the user has already covered sections \"Setup: preparing the benchmark data sets\" and \"Setup: software for tests using benchmark data\" from the main README file. As such, all that remains to be done here is to fill in the details related to experiment parameter settings.\n",
    "\n",
    "\n",
    "### Glossary of experimental parameters\n",
    "\n",
    "- `--algo-ancillary`: specifies the underlying learning algorithm to use (e.g., SGD); call these the *ancillary iterates*.\n",
    "- `--algo-main`: lets us specify an additional procedure to operate on the ancillary iterates (e.g., do nothing or average SGD iterates, etc.); call these the *main iterates*.\n",
    "- `--batch-size`: size of mini-batch to use.\n",
    "- `--data`: the name of the data set to be used.\n",
    "- `--entropy`: used when we want to ensure all methods are tested on the same pseudo-randomly generated/shuffled datasets.\n",
    "- `--loss`: the name of the loss function to be used.\n",
    "- `--model`: the name of the model to be used.\n",
    "- `--num-epochs`: the number of passes to make over the training data.\n",
    "- `--num-procs` (*only in* `learn_rb_run.sh`): control the number of independent sub-processes to be run.\n",
    "- `--num-trials`: the number of randomized trials to be run.\n",
    "- `--step-size`: global step-size coefficient (multiplies the step-size computed internally by algorithms).\n",
    "- `--task-name`: mostly for clerical purposes, when we want to distinguish results for different setups etc.\n",
    "\n",
    "\n",
    "### Detailed parameter settings\n",
    "\n",
    "The experiments given in our AISTATS 2021 paper are computed using a combination of the following experimental parameter settings:\n",
    "\n",
    "- `--algo-ancillary`: `\"SGD\"` or `\"RGD-M\"`.\n",
    "- `--algo-main`: `\"\"` or `\"Ave\"`.\n",
    "- `--batch-size`: `\"0\"` (full batch) or `\"1\"`.\n",
    "- `--data`: `\"ds_lognormal\"`, `\"ds_normal\"`, or `\"ds_pareto\"`.\n",
    "- `--loss`: `\"absolute\"` or `\"quadratic\"`.\n",
    "- `--model`: `\"linreg\"`.\n",
    "- `--num-epochs`: `\"40\"`.\n",
    "- `--num-procs`: `\"10\"` (for `learn_rb_run.sh` only).\n",
    "- `--num-trials`: `\"100\"`.\n",
    "- `--step-size`: `\"0.1\"` or `\"0.01\"`.\n",
    "- `--task-name`: `\"default\"`.\n",
    "\n",
    "In particular, using the nomenclature from the paper as-is, we get __RGD-M__ and __ERM-GD__ by running `learn_run.sh` with the appropriate settings (as specified in the paper), and we get __RV-SGDAve__ by similarly running `learn_rb_run.sh`.\n",
    "\n",
    "\n",
    "### Execution\n",
    "\n",
    "If the shell script(s) `learn*_run.sh` have been appropriately modified to reflect any of the above settings, then running the experiments is a one-line operation.\n",
    "\n",
    "__For procedures *without* robust boosting:__\n",
    "\n",
    "```\n",
    "(robrisk) $ ./learn_run.sh\n",
    "```\n",
    "\n",
    "__For procedures *with* robust boosting:__\n",
    "\n",
    "```\n",
    "(robrisk) $ ./learn_rb_run.sh\n",
    "```\n",
    "\n",
    "Once the tests have been run, a collection of raw experimental results should be written to disk. The following section covers the tasks of processing and visualizing these results."
   ]
  },
  {
   "cell_type": "markdown",
   "metadata": {},
   "source": [
    "___"
   ]
  },
  {
   "cell_type": "markdown",
   "metadata": {},
   "source": [
    "<a id=\"prelim\"></a>\n",
    "## Visualize: preliminaries"
   ]
  },
  {
   "cell_type": "code",
   "execution_count": 1,
   "metadata": {},
   "outputs": [],
   "source": [
    "## External modules.\n",
    "from contextlib import ExitStack\n",
    "import json\n",
    "from matplotlib import cm\n",
    "import matplotlib.pyplot as plt\n",
    "from matplotlib.ticker import MaxNLocator, MultipleLocator\n",
    "import numpy as np\n",
    "import os\n",
    "\n",
    "## Internal modules.\n",
    "from mml.utils import makedir_safe\n",
    "from setup_data import dataset_paras\n",
    "from setup_results import img_dir, results_dir, my_fontsize, my_ext, export_legend\n"
   ]
  },
  {
   "cell_type": "code",
   "execution_count": 2,
   "metadata": {},
   "outputs": [],
   "source": [
    "## Parameters to be set by the user.\n",
    "task_name = \"default\" # specify task name\n",
    "data = \"ds_lognormal\" # specify dataset name\n",
    "model = \"linreg\" # specify model name\n",
    "eval_type = \"quadratic_cvar\" # specify evaluation metric (zero_one, logistic, quadratic, risk, ...)"
   ]
  },
  {
   "cell_type": "code",
   "execution_count": 3,
   "metadata": {},
   "outputs": [],
   "source": [
    "## Helper function definition.\n",
    "def agg_fn_all(arr, agg_type):\n",
    "    if agg_type == \"mean\":\n",
    "        return np.mean(arr, axis=0)\n",
    "    elif agg_type == \"sd\":\n",
    "        return np.std(arr, axis=0)\n",
    "    else:\n",
    "        raise ValueError"
   ]
  },
  {
   "cell_type": "code",
   "execution_count": 4,
   "metadata": {},
   "outputs": [],
   "source": [
    "## Automated clerical setup.\n",
    "fname_base = task_name+\"-\"+model\n",
    "eval_train = eval_type+\"_train\"\n",
    "eval_test = eval_type+\"_test\"\n",
    "\n",
    "## Directory setup.\n",
    "toread_dir = os.path.join(results_dir, data)\n",
    "towrite_dir = os.path.join(img_dir)\n",
    "makedir_safe(towrite_dir)\n",
    "\n",
    "## Colour setup.\n",
    "mth_cmap = cm.get_cmap(\"tab20\")\n",
    "mth_colours = []\n",
    "for i in range(20):\n",
    "    mth_colours += [mth_cmap.colors[i]]\n"
   ]
  },
  {
   "cell_type": "markdown",
   "metadata": {},
   "source": [
    "___"
   ]
  },
  {
   "cell_type": "markdown",
   "metadata": {},
   "source": [
    "<a id=\"multitrial\"></a>\n",
    "## Visualize: over multiple trials"
   ]
  },
  {
   "cell_type": "code",
   "execution_count": 5,
   "metadata": {},
   "outputs": [],
   "source": [
    "## Set how we aggregate over trials.\n",
    "agg_todo = \"mean\" # \"mean\", \"sd\"\n",
    "agg_fn = lambda array: agg_fn_all(arr=array, agg_type=agg_todo)"
   ]
  },
  {
   "cell_type": "code",
   "execution_count": 6,
   "metadata": {},
   "outputs": [
    {
     "name": "stdout",
     "output_type": "stream",
     "text": [
      "Unique names found: ['default-linreg_RGD-M' 'default-linreg_SGD' 'default-linreg_SGD_Ave'\n",
      " 'default-linreg_rb_SGD_Ave']\n"
     ]
    }
   ],
   "source": [
    "## A few lines of code to extract all the method names.\n",
    "all_files = os.listdir(toread_dir)\n",
    "names_raw = []\n",
    "for s in all_files:\n",
    "    split_hyphen = s.split(\"-\")\n",
    "    split_dot = s.split(\".\")\n",
    "    if split_hyphen[0] == task_name and split_dot[-1] != \"json\":\n",
    "        names_raw += [\"-\".join(split_hyphen[0:-1])]\n",
    "names_raw = np.array(names_raw)\n",
    "names_unique = np.unique(names_raw)\n",
    "print(\"Unique names found:\", names_unique)"
   ]
  },
  {
   "cell_type": "code",
   "execution_count": 7,
   "metadata": {},
   "outputs": [],
   "source": [
    "to_plot_names = {fname_base+\"_\"+\"RGD-M\": \"RGD-M\",\n",
    "                 fname_base+\"_\"+\"SGD\": \"ERM-GD\",\n",
    "                 fname_base+\"_\"+\"rb_SGD_Ave\": \"RV-SGDAve\",\n",
    "                 fname_base+\"_\"+\"SGD_Ave\": \"SGDAve\"}\n",
    "to_plot = [fname_base+\"_\"+\"RGD-M\",\n",
    "           fname_base+\"_\"+\"SGD\",\n",
    "           fname_base+\"_\"+\"rb_SGD_Ave\",\n",
    "           fname_base+\"_\"+\"SGD_Ave\"]\n",
    "to_plot_colours = {a: mth_colours[j] for j, a in enumerate(to_plot)}"
   ]
  },
  {
   "cell_type": "code",
   "execution_count": 8,
   "metadata": {},
   "outputs": [
    {
     "name": "stdout",
     "output_type": "stream",
     "text": [
      "(default-linreg_RGD-M) Finished collecting training results.\n",
      "(default-linreg_RGD-M) Finished collecting test results.\n",
      "(default-linreg_SGD) Finished collecting training results.\n",
      "(default-linreg_SGD) Finished collecting test results.\n",
      "(default-linreg_rb_SGD_Ave) Finished collecting training results.\n",
      "(default-linreg_rb_SGD_Ave) Finished collecting test results.\n",
      "(default-linreg_SGD_Ave) Finished collecting training results.\n",
      "(default-linreg_SGD_Ave) Finished collecting test results.\n"
     ]
    }
   ],
   "source": [
    "## Gathering of results.\n",
    "dict_train = {a: [] for a in to_plot}\n",
    "dict_test = {a: [] for a in to_plot}\n",
    "\n",
    "for mth_name in to_plot:\n",
    "    \n",
    "    trial = 0\n",
    "    do_gathering = True\n",
    "    \n",
    "    while do_gathering:\n",
    "        \n",
    "        toread_train = os.path.join(\n",
    "            toread_dir, \".\".join([mth_name+\"-\"+str(trial), eval_train])\n",
    "        )\n",
    "        toread_test = os.path.join(\n",
    "            toread_dir, \".\".join([mth_name+\"-\"+str(trial), eval_test])\n",
    "        )\n",
    "        \n",
    "        with ExitStack() as stack:\n",
    "            \n",
    "            try:\n",
    "                f_train = stack.enter_context(open(toread_train, mode=\"r\", encoding=\"ascii\"))\n",
    "                yvals = np.loadtxt(fname=f_train, dtype=np.float,\n",
    "                                   delimiter=\",\", ndmin=2)\n",
    "                dict_train[mth_name] += [yvals]\n",
    "            except FileNotFoundError:\n",
    "                do_gathering = False\n",
    "                print(\"({}) Finished collecting training results.\".format(mth_name))\n",
    "                \n",
    "            try:\n",
    "                f_test = stack.enter_context(open(toread_test, mode=\"r\", encoding=\"ascii\"))\n",
    "                yvals = np.loadtxt(fname=f_test, dtype=np.float,\n",
    "                                   delimiter=\",\", ndmin=2)\n",
    "                dict_test[mth_name] += [yvals]\n",
    "            except FileNotFoundError:\n",
    "                print(\"({}) Finished collecting test results.\".format(mth_name))\n",
    "        \n",
    "        ## If the current trial went through, increment to try the next one.\n",
    "        if do_gathering:\n",
    "            trial += 1\n",
    "            \n",
    "dict_train = {a:np.hstack(dict_train[a]).T for a in dict_train.keys()}\n",
    "dict_test = {a:np.hstack(dict_test[a]).T for a in dict_test.keys()}"
   ]
  },
  {
   "cell_type": "code",
   "execution_count": 9,
   "metadata": {
    "scrolled": false
   },
   "outputs": [
    {
     "data": {
      "image/png": "[encoded data removed]",
      "text/plain": [
       "<Figure size 504x432 with 1 Axes>"
      ]
     },
     "metadata": {
      "needs_background": "light"
     },
     "output_type": "display_data"
    },
    {
     "data": {
      "image/png": "[encoded data removed]",
      "text/plain": [
       "<Figure size 504x432 with 1 Axes>"
      ]
     },
     "metadata": {
      "needs_background": "light"
     },
     "output_type": "display_data"
    }
   ],
   "source": [
    "## Visualization of results.\n",
    "\n",
    "fig, ax = plt.subplots(1, 1, figsize=(7,6)) # bigger size for detailed viewing.\n",
    "for j, mth_name in enumerate(dict_train.keys()):\n",
    "    yval_array = dict_train[mth_name]\n",
    "    num_trials, num_epochs = yval_array.shape\n",
    "    yvals = agg_fn(yval_array)\n",
    "    xvals = np.arange(num_epochs)\n",
    "    ax.plot(xvals, yvals,\n",
    "            color=to_plot_colours[mth_name],\n",
    "            label=\"{} tr\".format(to_plot_names[mth_name]),\n",
    "            ls=\"--\")\n",
    "ax.tick_params(labelsize=my_fontsize)\n",
    "#ax.legend(loc=0, ncol=2, fontsize=my_fontsize)\n",
    "ax.set_title(\"{}\".format(data),\n",
    "             size=my_fontsize)\n",
    "fname = os.path.join(towrite_dir, \"{}_{}_{}_tr.{}\".format(eval_type, agg_todo,\n",
    "                                                       data, my_ext))\n",
    "ax.xaxis.set_major_locator(MultipleLocator(10))\n",
    "#ax.yaxis.set_major_formatter(\"{x:.1f}\")\n",
    "ax.yaxis.set_major_locator(MaxNLocator(4))\n",
    "plt.tight_layout()\n",
    "#plt.savefig(fname=fname)\n",
    "plt.show()\n",
    "\n",
    "fig, ax = plt.subplots(1, 1, figsize=(7,6)) # bigger size for detailed viewing.\n",
    "for j, mth_name in enumerate(dict_test.keys()):\n",
    "    yval_array = dict_test[mth_name]\n",
    "    num_trials, num_epochs = yval_array.shape\n",
    "    yvals = agg_fn(yval_array)\n",
    "    xvals = np.arange(num_epochs)\n",
    "    ax.plot(xvals, yvals,\n",
    "            color=to_plot_colours[mth_name],\n",
    "            label=\"{} te\".format(to_plot_names[mth_name]),\n",
    "            ls=\"-\")\n",
    "ax.tick_params(labelsize=my_fontsize)\n",
    "#ax.legend(loc=0, ncol=2, fontsize=my_fontsize)\n",
    "ax.set_title(\"{}\".format(data),\n",
    "             size=my_fontsize)\n",
    "fname = os.path.join(towrite_dir, \"{}_{}_{}_te.{}\".format(eval_type, agg_todo,\n",
    "                                                       data, my_ext))\n",
    "ax.xaxis.set_major_locator(MultipleLocator(10))\n",
    "#ax.yaxis.set_major_formatter(\"{x:.1f}\")\n",
    "ax.yaxis.set_major_locator(MaxNLocator(4))\n",
    "plt.tight_layout()\n",
    "#plt.savefig(fname=fname)\n",
    "plt.show()"
   ]
  },
  {
   "cell_type": "code",
   "execution_count": 10,
   "metadata": {},
   "outputs": [
    {
     "data": {
      "image/png": "[encoded data removed]",
      "text/plain": [
       "<Figure size 432x288 with 1 Axes>"
      ]
     },
     "metadata": {
      "needs_background": "light"
     },
     "output_type": "display_data"
    }
   ],
   "source": [
    "## Legends.\n",
    "\n",
    "labels = [to_plot_names[a]+\" (train)\" for a in to_plot] + [to_plot_names[a]+\" (test)\" for a in to_plot]\n",
    "colours = [to_plot_colours[a] for a in to_plot] + [to_plot_colours[a] for a in to_plot]\n",
    "linestyles = [\"--\"]*len(to_plot_names) + [\"-\"]*len(to_plot_names)\n",
    "\n",
    "f = lambda m,c,l: plt.plot([],[],marker=m, color=c, ls=l)[0]\n",
    "handles = [f(None, colours[i], linestyles[i]) for i in range(len(labels))]\n",
    "legend = plt.legend(handles, labels, loc=3, ncol=2, framealpha=1, frameon=True)\n",
    "fname = os.path.join(towrite_dir, \"legend.{}\".format(my_ext))\n",
    "export_legend(legend=legend, filename=fname)\n",
    "plt.show()"
   ]
  },
  {
   "cell_type": "markdown",
   "metadata": {},
   "source": [
    "___"
   ]
  }
 ],
 "metadata": {
  "kernelspec": {
   "display_name": "Python 3",
   "language": "python",
   "name": "python3"
  },
  "language_info": {
   "codemirror_mode": {
    "name": "ipython",
    "version": 3
   },
   "file_extension": ".py",
   "mimetype": "text/x-python",
   "name": "python",
   "nbconvert_exporter": "python",
   "pygments_lexer": "ipython3",
   "version": "3.8.5"
  }
 },
 "nbformat": 4,
 "nbformat_minor": 4
}
