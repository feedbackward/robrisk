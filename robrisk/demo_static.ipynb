{
 "cells": [
  {
   "cell_type": "markdown",
   "metadata": {},
   "source": [
    "# Demo: competing methods for CVaR estimation\n",
    "\n",
    "This demo covers the numerical tests of different methods for estimating the CVaR of loss functions, as done in the following paper.\n",
    "\n",
    "- Learning with risk-averse feedback under potentially heavy tails (cf. Sections 2.2 and 3). Matthew J. Holland and El Mehdi Haress. AISTATS 2021.\n",
    "\n",
    "The contents of this demo notebook are as follows:\n",
    "\n",
    "- <a href=\"#test_n\">Testing performance over sample size $n$</a>\n",
    "- <a href=\"#test_alpha\">Testing performance over confidence parameter $\\alpha$</a>\n",
    "\n",
    "Assuming the user has read the README associated with this repository and done the required setup, all tests here can be easily run within this notebook. We make use of our `mml` repository just for M-estimation sub-routines."
   ]
  },
  {
   "cell_type": "markdown",
   "metadata": {},
   "source": [
    "<a id=\"test_n\"></a>\n",
    "## Testing performance over sample size $n$"
   ]
  },
  {
   "cell_type": "code",
   "execution_count": 1,
   "metadata": {},
   "outputs": [],
   "source": [
    "## External modules.\n",
    "import matplotlib.pyplot as plt\n",
    "import numpy as np\n",
    "import os\n",
    "\n",
    "## Internal modules.\n",
    "from mml.utils.mest import est_loc_fixedpt, inf_gudermann, est_scale_chi_fixedpt, chi_geman_quad\n",
    "from setup_results import my_fontsize, my_ext, export_legend"
   ]
  },
  {
   "cell_type": "code",
   "execution_count": 2,
   "metadata": {},
   "outputs": [],
   "source": [
    "mth_dict = {\"empirical\": {\"simple\": \"Empirical\",\n",
    "                          \"colour\": \"black\"},\n",
    "            \"catoni\": {\"simple\": \"Cat-12\",\n",
    "                       \"colour\": \"tab:green\"},\n",
    "            \"mom\": {\"simple\": \"MoM\",\n",
    "                    \"colour\": \"tab:orange\"},\n",
    "            \"rtrunc\": {\"simple\": \"R-Trunc\",\n",
    "                       \"colour\": \"tab:red\"}}"
   ]
  },
  {
   "cell_type": "code",
   "execution_count": 3,
   "metadata": {},
   "outputs": [],
   "source": [
    "## First, set task and data distribution.\n",
    "\n",
    "task_name = \"STATIC-N\"\n",
    "\n",
    "data_dist = \"pareto\" # set this freely.\n",
    "\n",
    "ss = np.random.SeedSequence()\n",
    "rg = np.random.default_rng(seed=ss)\n",
    "\n",
    "def x_gen(n, data_dist):\n",
    "    \n",
    "    if data_dist == \"lognormal\":\n",
    "        return rg.lognormal(mean=0.0, sigma=1.95, size=n)\n",
    "    \n",
    "    elif data_dist == \"fnorm\":\n",
    "        return np.abs(rg.normal(loc=0.0, scale=3.9, size=n))\n",
    "    \n",
    "    elif data_dist == \"pareto\":\n",
    "        return rg.pareto(a=2.15, size=n) * 3.8\n"
   ]
  },
  {
   "cell_type": "code",
   "execution_count": 4,
   "metadata": {},
   "outputs": [],
   "source": [
    "## Next, set the method names.\n",
    "mth_names_raw = [\"empirical\", \"catoni\", \"mom\", \"rtrunc\"]"
   ]
  },
  {
   "cell_type": "code",
   "execution_count": 5,
   "metadata": {
    "scrolled": true
   },
   "outputs": [
    {
     "name": "stdout",
     "output_type": "stream",
     "text": [
      "MoM k value = 15.0\n"
     ]
    }
   ],
   "source": [
    "## Next, set other experiment-related parameters.\n",
    "num_trials = 10000\n",
    "alpha = 0.05\n",
    "n_verify = 100000000\n",
    "\n",
    "## Catoni parameters and estimator prep.\n",
    "_thres_Mest = 1e-03 # threshold value for M-estimator computations.\n",
    "_iters_Mest = 50 # number of iterations for M-estimator computations.\n",
    "_delta = 0.02 # confidence level parameter.\n",
    "_s_min = 0.001 # to prevent overflow when dividing by small numbers.\n",
    "est_loc = lambda X, s: est_loc_fixedpt(X=X, s=s, inf_fn=inf_gudermann,\n",
    "                                       thres=_thres_Mest, iters=_iters_Mest)\n",
    "est_scale = lambda X: est_scale_chi_fixedpt(X=X, chi_fn=chi_geman_quad)\n",
    "\n",
    "## MoM parameters.\n",
    "_mom_k = 1+np.ceil(3.5*np.log(1/_delta))\n",
    "print(\"MoM k value = {}\".format(_mom_k))"
   ]
  },
  {
   "cell_type": "code",
   "execution_count": 6,
   "metadata": {},
   "outputs": [
    {
     "name": "stdout",
     "output_type": "stream",
     "text": [
      "496.25993489960194\n"
     ]
    }
   ],
   "source": [
    "## Get an accurate estimate of the true CVaR value.\n",
    "x_verify = np.sort(x_gen(n=n_verify, data_dist=data_dist)) # first sample.\n",
    "var = x_verify[int(np.floor((1-alpha)*n_verify))]\n",
    "x_verify = x_gen(n=n_verify, data_dist=data_dist) # second sample.\n",
    "cvar = np.mean(x_verify[x_verify >= var]) / alpha\n",
    "del x_verify\n",
    "print(cvar)"
   ]
  },
  {
   "cell_type": "markdown",
   "metadata": {},
   "source": [
    "### Main test over $n$"
   ]
  },
  {
   "cell_type": "code",
   "execution_count": 7,
   "metadata": {},
   "outputs": [
    {
     "name": "stdout",
     "output_type": "stream",
     "text": [
      "Working (n = 750)\n",
      "Working (n = 1000)\n",
      "Working (n = 1500)\n",
      "Working (n = 2500)\n",
      "Working (n = 4500)\n",
      "Working (n = 8500)\n",
      "Working (n = 16500)\n",
      "Working (n = 33000)\n"
     ]
    }
   ],
   "source": [
    "n_samples = [750, 1000, 1500, 2500, 4500, 8500, 16500, 33000]\n",
    "n_tocheck = 8500\n",
    "\n",
    "aves_emp = []\n",
    "aves_cat12 = []\n",
    "aves_mom = []\n",
    "aves_rtrunc = []\n",
    "\n",
    "sds_emp = []\n",
    "sds_cat12 = []\n",
    "sds_mom = []\n",
    "sds_rtrunc = []\n",
    "\n",
    "tocheck_dict = {}\n",
    "\n",
    "for idx_n in range(len(n_samples)):\n",
    "    \n",
    "    n_sample = n_samples[idx_n]\n",
    "    print(\"Working (n = {})\".format(n_sample))\n",
    "\n",
    "    diffs_emp = []\n",
    "    diffs_cat12 = []\n",
    "    diffs_mom = []\n",
    "    diffs_rtrunc = []\n",
    "    \n",
    "    for t in range(num_trials):\n",
    "\n",
    "        x_var = x_gen(n=int(np.floor(n_sample/2)), data_dist=data_dist)\n",
    "        x_est = x_gen(n=int(np.floor(n_sample/2)), data_dist=data_dist)\n",
    "\n",
    "        idx_break = int(np.floor(n_sample/2))\n",
    "        var_hat = np.sort(x_var)[int(np.floor((1-alpha)*x_var.size))]\n",
    "\n",
    "        x_est_cond = x_est[x_est >= var_hat]\n",
    "\n",
    "        ## Empirical.\n",
    "        if x_est_cond.size < 1:\n",
    "            cvar_hat_emp = np.max(x_est) / alpha\n",
    "        else:\n",
    "            cvar_hat_emp = np.mean(x_est_cond) / alpha\n",
    "        diffs_emp += [np.abs(cvar_hat_emp-cvar)]\n",
    "\n",
    "        ## Catoni.\n",
    "        if x_est_cond.size < 2:\n",
    "            cvar_hat_cat12 = np.max(x_est) / alpha\n",
    "        else:\n",
    "            s_est = np.sqrt(x_est.size/np.log(1/_delta))\n",
    "            s_est *= est_scale(x_est_cond-x_est_cond.mean())\n",
    "            s_est = np.maximum(s_est, _s_min) # ensure not too small.\n",
    "            cvar_hat_cat12 = est_loc(X=x_est_cond, s=s_est).item() / alpha\n",
    "        diffs_cat12 += [np.abs(cvar_hat_cat12-cvar)]\n",
    "        \n",
    "        ## Median-of-means.\n",
    "        if x_est_cond.size < 2*_mom_k:\n",
    "            if x_est_cond.size < 1:\n",
    "                cvar_hat_mom = np.max(x_est) / alpha\n",
    "            else:\n",
    "                cvar_hat_mom = np.mean(x_est_cond) / alpha\n",
    "        else:\n",
    "            cvar_hat_mom = np.median([ val.mean() for val in np.array_split(x_est_cond, _mom_k) ]) / alpha\n",
    "        diffs_mom += [np.abs(cvar_hat_mom-cvar)]\n",
    "\n",
    "        ## Random truncation.\n",
    "        if x_est_cond.size < 1:\n",
    "            cvar_hat_rtrunc = np.max(x_est) / alpha\n",
    "        else:\n",
    "            u_hat = np.mean(x_est**2)\n",
    "            b = np.sqrt(u_hat*(np.arange(x_est.size)+1)/np.log(1/_delta))\n",
    "            b_cond = b[x_est >= var_hat]\n",
    "            x_est_cond_b = x_est_cond[x_est_cond <= b_cond]\n",
    "            if x_est_cond_b.size < 1:\n",
    "                cvar_hat_rtrunc = 0.0\n",
    "            else:\n",
    "                cvar_hat_rtrunc = np.mean(x_est_cond_b) / alpha\n",
    "        diffs_rtrunc += [np.abs(cvar_hat_rtrunc-cvar)]\n",
    "\n",
    "    aves_emp += [np.mean(np.array(diffs_emp))]\n",
    "    aves_cat12 += [np.mean(np.array(diffs_cat12))]\n",
    "    aves_mom += [np.mean(np.array(diffs_mom))]\n",
    "    aves_rtrunc += [np.mean(np.array(diffs_rtrunc))]\n",
    "    sds_emp += [np.std(np.array(diffs_emp))]\n",
    "    sds_cat12 += [np.std(np.array(diffs_cat12))]\n",
    "    sds_mom += [np.std(np.array(diffs_mom))]\n",
    "    sds_rtrunc += [np.std(np.array(diffs_rtrunc))]\n",
    "    \n",
    "    if n_sample == n_tocheck:\n",
    "        tocheck_dict[\"empirical\"] = np.array(diffs_emp)\n",
    "        tocheck_dict[\"catoni\"] = np.array(diffs_cat12)\n",
    "        tocheck_dict[\"mom\"] = np.array(diffs_mom)\n",
    "        tocheck_dict[\"rtrunc\"] = np.array(diffs_rtrunc)\n",
    "    \n",
    "    \n",
    "aves_dict = {\"empirical\": np.array(aves_emp),\n",
    "             \"catoni\": np.array(aves_cat12),\n",
    "             \"mom\": np.array(aves_mom),\n",
    "             \"rtrunc\": np.array(aves_rtrunc)}\n",
    "sds_dict = {\"empirical\": np.array(sds_emp),\n",
    "             \"catoni\": np.array(sds_cat12),\n",
    "            \"mom\": np.array(sds_mom),\n",
    "             \"rtrunc\": np.array(sds_rtrunc)}"
   ]
  },
  {
   "cell_type": "code",
   "execution_count": 8,
   "metadata": {},
   "outputs": [
    {
     "name": "stdout",
     "output_type": "stream",
     "text": [
      "Methods to check (raw): ['empirical', 'catoni', 'mom', 'rtrunc']\n",
      "Methods to check (simplified): ['Empirical', 'Cat-12', 'MoM', 'R-Trunc']\n"
     ]
    }
   ],
   "source": [
    "# Select methods for visualization.\n",
    "mth_todo_idx = [0, 1, 2, 3]\n",
    "mth_todo = [ mth_names_raw[m] for m in mth_todo_idx ]\n",
    "print(\"Methods to check (raw):\", mth_todo)\n",
    "mth_todo_simple = [ mth_dict[mth][\"simple\"] for mth in mth_todo ]\n",
    "print(\"Methods to check (simplified):\", mth_todo_simple)\n",
    "mth_todo_colours = [ mth_dict[mth][\"colour\"] for mth in mth_todo ]"
   ]
  },
  {
   "cell_type": "code",
   "execution_count": 9,
   "metadata": {},
   "outputs": [
    {
     "data": {
      "image/png": "[encoded data removed]",
      "text/plain": [
       "<Figure size 720x288 with 1 Axes>"
      ]
     },
     "metadata": {
      "needs_background": "light"
     },
     "output_type": "display_data"
    }
   ],
   "source": [
    "# Boxplot of all methods for particular \"n\" value.\n",
    "\n",
    "myfig, ax = plt.subplots(1, 1, figsize=(10,4))\n",
    "\n",
    "perf_tostack = []\n",
    "\n",
    "perf_tostack = []\n",
    "for m in range(len(mth_todo)):\n",
    "    perf_tostack += [tocheck_dict[mth_todo[m]]]\n",
    "    \n",
    "ax.boxplot(x=np.vstack(perf_tostack).T,\n",
    "           notch=False,\n",
    "           labels=mth_todo_simple)\n",
    "ax.tick_params(labelsize=my_fontsize)\n",
    "ax.set_title(\"CVaR estimation error ({}, n={})\".format(data_dist, n_tocheck), size=my_fontsize)\n",
    "\n",
    "fname = os.path.join(\"img\", \"{}_box_{}.{}\".format(task_name, data_dist, my_ext))\n",
    "plt.savefig(fname=fname, bbox_inches=\"tight\")\n",
    "\n",
    "plt.show()"
   ]
  },
  {
   "cell_type": "code",
   "execution_count": 10,
   "metadata": {},
   "outputs": [
    {
     "data": {
      "image/png": "[encoded data removed]",
      "text/plain": [
       "<Figure size 720x360 with 2 Axes>"
      ]
     },
     "metadata": {
      "needs_background": "light"
     },
     "output_type": "display_data"
    }
   ],
   "source": [
    "# Do the visualization.\n",
    "\n",
    "myfig, (ax1, ax2) = plt.subplots(1, 2, figsize=(10,5), sharey=True)\n",
    "\n",
    "for m in range(len(mth_todo_idx)):\n",
    "    xvals = np.array(n_samples)[2:]\n",
    "    yvals = aves_dict[mth_todo[m]][2:]\n",
    "    ax1.plot(xvals, yvals, label=mth_todo_simple[m], color=mth_todo_colours[m])\n",
    "    \n",
    "ax1.tick_params(labelsize=my_fontsize)\n",
    "ax1.legend(loc=0, ncol=1, fontsize=my_fontsize)\n",
    "ax1.set_title(\"Averages\", size=my_fontsize)\n",
    "\n",
    "for m in range(len(mth_todo)):\n",
    "    xvals = np.array(n_samples)[2:]\n",
    "    yvals = sds_dict[mth_todo[m]][2:]\n",
    "    ax2.plot(xvals, yvals, label=mth_todo_simple[m], color=mth_todo_colours[m])\n",
    "    \n",
    "ax2.tick_params(labelsize=my_fontsize)\n",
    "ax2.set_title(\"Std Deviations\", size=my_fontsize)\n",
    "\n",
    "fname = os.path.join(\"img\", \"{}_plot_{}.{}\".format(task_name, data_dist, my_ext))\n",
    "plt.savefig(fname=fname, bbox_inches=\"tight\")\n",
    "\n",
    "plt.show()"
   ]
  },
  {
   "cell_type": "markdown",
   "metadata": {},
   "source": [
    "___"
   ]
  },
  {
   "cell_type": "markdown",
   "metadata": {},
   "source": [
    "<a id=\"test_alpha\"></a>\n",
    "## Testing performance over confidence parameter $\\alpha$"
   ]
  },
  {
   "cell_type": "code",
   "execution_count": 1,
   "metadata": {},
   "outputs": [],
   "source": [
    "## External modules.\n",
    "import matplotlib.pyplot as plt\n",
    "import numpy as np\n",
    "import os\n",
    "\n",
    "## Internal modules.\n",
    "from mml.utils.mest import est_loc_fixedpt, inf_gudermann, est_scale_chi_fixedpt, chi_geman_quad\n",
    "from setup_results import my_fontsize, my_ext, export_legend"
   ]
  },
  {
   "cell_type": "code",
   "execution_count": 2,
   "metadata": {},
   "outputs": [],
   "source": [
    "mth_dict = {\"empirical\": {\"simple\": \"Empirical\",\n",
    "                          \"colour\": \"black\"},\n",
    "            \"catoni\": {\"simple\": \"Cat-12\",\n",
    "                       \"colour\": \"tab:green\"},\n",
    "            \"mom\": {\"simple\": \"MoM\",\n",
    "                    \"colour\": \"tab:orange\"},\n",
    "            \"rtrunc\": {\"simple\": \"R-Trunc\",\n",
    "                       \"colour\": \"tab:red\"}}"
   ]
  },
  {
   "cell_type": "code",
   "execution_count": 3,
   "metadata": {},
   "outputs": [],
   "source": [
    "## First, set task and data distribution.\n",
    "\n",
    "task_name = \"STATIC-A\"\n",
    "\n",
    "data_dist = \"pareto\" # set this freely.\n",
    "\n",
    "ss = np.random.SeedSequence()\n",
    "rg = np.random.default_rng(seed=ss)\n",
    "\n",
    "def x_gen(n, data_dist):\n",
    "    \n",
    "    if data_dist == \"lognormal\":\n",
    "        return rg.lognormal(mean=0.0, sigma=1.95, size=n)\n",
    "    \n",
    "    elif data_dist == \"fnorm\":\n",
    "        return np.abs(rg.normal(loc=0.0, scale=3.9, size=n))\n",
    "    \n",
    "    elif data_dist == \"pareto\":\n",
    "        return rg.pareto(a=2.15, size=n) * 3.8\n"
   ]
  },
  {
   "cell_type": "code",
   "execution_count": 4,
   "metadata": {},
   "outputs": [],
   "source": [
    "## Next, set the method names.\n",
    "mth_names_raw = [\"empirical\", \"catoni\", \"mom\", \"rtrunc\"]"
   ]
  },
  {
   "cell_type": "code",
   "execution_count": 5,
   "metadata": {
    "scrolled": true
   },
   "outputs": [
    {
     "name": "stdout",
     "output_type": "stream",
     "text": [
      "MoM k value = 15.0\n"
     ]
    }
   ],
   "source": [
    "## Next, set other experiment-related parameters.\n",
    "num_trials = 10000\n",
    "n_sample = 10000\n",
    "n_verify = 100000000\n",
    "\n",
    "## Catoni parameters and estimator prep.\n",
    "_thres_Mest = 1e-03 # threshold value for M-estimator computations.\n",
    "_iters_Mest = 50 # number of iterations for M-estimator computations.\n",
    "_delta = 0.02 # confidence level parameter.\n",
    "_s_min = 0.001 # to prevent overflow when dividing by small numbers.\n",
    "est_loc = lambda X, s: est_loc_fixedpt(X=X, s=s, inf_fn=inf_gudermann,\n",
    "                                       thres=_thres_Mest, iters=_iters_Mest)\n",
    "est_scale = lambda X: est_scale_chi_fixedpt(X=X, chi_fn=chi_geman_quad)\n",
    "\n",
    "## MoM parameters.\n",
    "_mom_k = 1+np.ceil(3.5*np.log(1/_delta))\n",
    "print(\"MoM k value = {}\".format(_mom_k))\n"
   ]
  },
  {
   "cell_type": "markdown",
   "metadata": {},
   "source": [
    "### Main test over $\\alpha$"
   ]
  },
  {
   "cell_type": "code",
   "execution_count": 6,
   "metadata": {},
   "outputs": [
    {
     "name": "stdout",
     "output_type": "stream",
     "text": [
      "Alpha = 0.15, CVaR = 89.09894309202892.\n",
      "Alpha = 0.125, CVaR = 119.12319675751189.\n",
      "Alpha = 0.1, CVaR = 169.2535955767604.\n",
      "Alpha = 0.075, CVaR = 265.0088000798522.\n",
      "Alpha = 0.05, CVaR = 496.3824791155511.\n",
      "Alpha = 0.025, CVaR = 1429.8054267425216.\n"
     ]
    }
   ],
   "source": [
    "a_values = [0.15, 0.125, 0.10, 0.075, 0.05, 0.025]\n",
    "alpha_tocheck = 0.075\n",
    "\n",
    "aves_emp = []\n",
    "aves_cat12 = []\n",
    "aves_mom = []\n",
    "aves_rtrunc = []\n",
    "\n",
    "sds_emp = []\n",
    "sds_cat12 = []\n",
    "sds_mom = []\n",
    "sds_rtrunc = []\n",
    "\n",
    "tocheck_dict = {}\n",
    "\n",
    "for idx_a in range(len(a_values)):\n",
    "    \n",
    "    alpha = a_values[idx_a]\n",
    "    \n",
    "    ## Get an accurate estimate of the true CVaR value.\n",
    "    x_verify = np.sort(x_gen(n=n_verify, data_dist=data_dist)) # first sample.\n",
    "    var = x_verify[int(np.floor((1-alpha)*n_verify))]\n",
    "    x_verify = x_gen(n=n_verify, data_dist=data_dist) # second sample.\n",
    "    cvar = np.mean(x_verify[x_verify >= var]) / alpha\n",
    "    del x_verify\n",
    "    print(\"Alpha = {}, CVaR = {}.\".format(alpha,cvar))\n",
    "\n",
    "    diffs_emp = []\n",
    "    diffs_cat12 = []\n",
    "    diffs_mom = []\n",
    "    diffs_rtrunc = []\n",
    "    \n",
    "    for t in range(num_trials):\n",
    "\n",
    "        x_var = x_gen(n=int(np.floor(n_sample/2)), data_dist=data_dist)\n",
    "        x_est = x_gen(n=int(np.floor(n_sample/2)), data_dist=data_dist)\n",
    "\n",
    "        idx_break = int(np.floor(n_sample/2))\n",
    "        var_hat = np.sort(x_var)[int(np.floor((1-alpha)*x_var.size))]\n",
    "\n",
    "        x_est_cond = x_est[x_est >= var_hat]\n",
    "\n",
    "        ## Empirical.\n",
    "        if x_est_cond.size < 1:\n",
    "            cvar_hat_emp = np.max(x_est) / alpha\n",
    "        else:\n",
    "            cvar_hat_emp = np.mean(x_est_cond) / alpha\n",
    "        diffs_emp += [np.abs(cvar_hat_emp-cvar)]\n",
    "\n",
    "        ## Catoni.\n",
    "        if x_est_cond.size < 2:\n",
    "            cvar_hat_cat12 = np.max(x_est) / alpha\n",
    "        else:\n",
    "            s_est = np.sqrt(x_est.size/np.log(1/_delta))\n",
    "            s_est *= est_scale(x_est_cond-x_est_cond.mean())\n",
    "            s_est = np.maximum(s_est, _s_min) # ensure not too small.\n",
    "            cvar_hat_cat12 = est_loc(X=x_est_cond, s=s_est).item() / alpha\n",
    "        diffs_cat12 += [np.abs(cvar_hat_cat12-cvar)]\n",
    "        \n",
    "        ## Median-of-means.\n",
    "        if x_est_cond.size < 2*_mom_k:\n",
    "            if x_est_cond.size < 1:\n",
    "                cvar_hat_mom = np.max(x_est) / alpha\n",
    "            else:\n",
    "                cvar_hat_mom = np.mean(x_est_cond) / alpha\n",
    "        else:\n",
    "            cvar_hat_mom = np.median([ val.mean() for val in np.array_split(x_est_cond, _mom_k) ]) / alpha\n",
    "        diffs_mom += [np.abs(cvar_hat_mom-cvar)]\n",
    "\n",
    "        ## Random truncation.\n",
    "        if x_est_cond.size < 1:\n",
    "            cvar_hat_rtrunc = np.max(x_est) / alpha\n",
    "        else:\n",
    "            u_hat = np.mean(x_est**2)\n",
    "            b = np.sqrt(u_hat*(np.arange(x_est.size)+1)/np.log(1/_delta))\n",
    "            b_cond = b[x_est >= var_hat]\n",
    "            x_est_cond_b = x_est_cond[x_est_cond <= b_cond]\n",
    "            if x_est_cond_b.size < 1:\n",
    "                cvar_hat_rtrunc = 0.0\n",
    "            else:\n",
    "                cvar_hat_rtrunc = np.mean(x_est_cond_b) / alpha\n",
    "        diffs_rtrunc += [np.abs(cvar_hat_rtrunc-cvar)]\n",
    "\n",
    "    aves_emp += [np.mean(np.array(diffs_emp))]\n",
    "    aves_cat12 += [np.mean(np.array(diffs_cat12))]\n",
    "    aves_mom += [np.mean(np.array(diffs_mom))]\n",
    "    aves_rtrunc += [np.mean(np.array(diffs_rtrunc))]\n",
    "    sds_emp += [np.std(np.array(diffs_emp))]\n",
    "    sds_cat12 += [np.std(np.array(diffs_cat12))]\n",
    "    sds_mom += [np.std(np.array(diffs_mom))]\n",
    "    sds_rtrunc += [np.std(np.array(diffs_rtrunc))]\n",
    "    \n",
    "    if alpha == alpha_tocheck:\n",
    "        tocheck_dict[\"empirical\"] = np.array(diffs_emp)\n",
    "        tocheck_dict[\"catoni\"] = np.array(diffs_cat12)\n",
    "        tocheck_dict[\"mom\"] = np.array(diffs_mom)\n",
    "        tocheck_dict[\"rtrunc\"] = np.array(diffs_rtrunc)\n",
    "    \n",
    "    \n",
    "aves_dict = {\"empirical\": np.array(aves_emp),\n",
    "             \"catoni\": np.array(aves_cat12),\n",
    "             \"mom\": np.array(aves_mom),\n",
    "             \"rtrunc\": np.array(aves_rtrunc)}\n",
    "sds_dict = {\"empirical\": np.array(sds_emp),\n",
    "             \"catoni\": np.array(sds_cat12),\n",
    "            \"mom\": np.array(sds_mom),\n",
    "             \"rtrunc\": np.array(sds_rtrunc)}"
   ]
  },
  {
   "cell_type": "code",
   "execution_count": 7,
   "metadata": {},
   "outputs": [
    {
     "name": "stdout",
     "output_type": "stream",
     "text": [
      "Methods to check (raw): ['empirical', 'catoni', 'mom', 'rtrunc']\n",
      "Methods to check (simplified): ['Empirical', 'Cat-12', 'MoM', 'R-Trunc']\n"
     ]
    }
   ],
   "source": [
    "# Select methods for visualization.\n",
    "mth_todo_idx = [0, 1, 2, 3]\n",
    "mth_todo = [ mth_names_raw[m] for m in mth_todo_idx ]\n",
    "print(\"Methods to check (raw):\", mth_todo)\n",
    "mth_todo_simple = [ mth_dict[mth][\"simple\"] for mth in mth_todo ]\n",
    "print(\"Methods to check (simplified):\", mth_todo_simple)\n",
    "mth_todo_colours = [ mth_dict[mth][\"colour\"] for mth in mth_todo ]"
   ]
  },
  {
   "cell_type": "code",
   "execution_count": 8,
   "metadata": {},
   "outputs": [
    {
     "data": {
      "image/png": "[encoded data removed]",
      "text/plain": [
       "<Figure size 720x288 with 1 Axes>"
      ]
     },
     "metadata": {
      "needs_background": "light"
     },
     "output_type": "display_data"
    }
   ],
   "source": [
    "# Boxplot of all methods for particular \"n\" value.\n",
    "\n",
    "myfig, ax = plt.subplots(1, 1, figsize=(10,4))\n",
    "\n",
    "perf_tostack = []\n",
    "\n",
    "perf_tostack = []\n",
    "for m in range(len(mth_todo)):\n",
    "    perf_tostack += [tocheck_dict[mth_todo[m]]]\n",
    "    \n",
    "ax.boxplot(x=np.vstack(perf_tostack).T,\n",
    "           notch=False,\n",
    "           labels=mth_todo_simple)\n",
    "ax.tick_params(labelsize=my_fontsize)\n",
    "ax.set_title(\"CVaR estimation error ({}, alpha={})\".format(data_dist, alpha_tocheck), size=my_fontsize)\n",
    "\n",
    "fname = os.path.join(\"img\", \"{}_box_{}.{}\".format(task_name, data_dist, my_ext))\n",
    "plt.savefig(fname=fname, bbox_inches=\"tight\")\n",
    "\n",
    "plt.show()"
   ]
  },
  {
   "cell_type": "code",
   "execution_count": 9,
   "metadata": {},
   "outputs": [
    {
     "data": {
      "image/png": "[encoded data removed]",
      "text/plain": [
       "<Figure size 720x360 with 2 Axes>"
      ]
     },
     "metadata": {
      "needs_background": "light"
     },
     "output_type": "display_data"
    }
   ],
   "source": [
    "# Do the visualization.\n",
    "\n",
    "myfig, (ax1, ax2) = plt.subplots(1, 2, figsize=(10,5), sharey=True)\n",
    "\n",
    "for m in range(len(mth_todo_idx)):\n",
    "    xvals = np.array(a_values)\n",
    "    yvals = aves_dict[mth_todo[m]]\n",
    "    ax1.plot(xvals, yvals, label=mth_todo_simple[m], color=mth_todo_colours[m])\n",
    "    \n",
    "ax1.tick_params(labelsize=my_fontsize)\n",
    "ax1.legend(loc=0, ncol=1, fontsize=my_fontsize)\n",
    "ax1.set_title(\"Averages\", size=my_fontsize)\n",
    "\n",
    "for m in range(len(mth_todo)):\n",
    "    xvals = np.array(a_values)\n",
    "    yvals = sds_dict[mth_todo[m]]\n",
    "    ax2.plot(xvals, yvals, label=mth_todo_simple[m], color=mth_todo_colours[m])\n",
    "    \n",
    "ax2.tick_params(labelsize=my_fontsize)\n",
    "ax2.set_title(\"Std Deviations\", size=my_fontsize)\n",
    "\n",
    "fname = os.path.join(\"img\", \"{}_plot_{}.{}\".format(task_name, data_dist, my_ext))\n",
    "plt.savefig(fname=fname, bbox_inches=\"tight\")\n",
    "\n",
    "plt.show()"
   ]
  },
  {
   "cell_type": "markdown",
   "metadata": {},
   "source": [
    "___"
   ]
  }
 ],
 "metadata": {
  "kernelspec": {
   "display_name": "Python 3",
   "language": "python",
   "name": "python3"
  },
  "language_info": {
   "codemirror_mode": {
    "name": "ipython",
    "version": 3
   },
   "file_extension": ".py",
   "mimetype": "text/x-python",
   "name": "python",
   "nbconvert_exporter": "python",
   "pygments_lexer": "ipython3",
   "version": "3.8.5"
  }
 },
 "nbformat": 4,
 "nbformat_minor": 2
}
